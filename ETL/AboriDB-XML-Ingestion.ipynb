{
 "cells": [
  {
   "cell_type": "code",
   "execution_count": null,
   "id": "38556363",
   "metadata": {},
   "outputs": [],
   "source": [
    "import pyodbc\n",
    "import xml.etree.ElementTree as ET"
   ]
  },
  {
   "cell_type": "code",
   "execution_count": 1,
   "id": "261d3a97",
   "metadata": {},
   "outputs": [
    {
     "name": "stdout",
     "output_type": "stream",
     "text": [
      "Requirement already satisfied: pyodbc in c:\\users\\ccovascosta\\anaconda3\\lib\\site-packages (4.0.32)Note: you may need to restart the kernel to use updated packages.\n",
      "\n"
     ]
    }
   ],
   "source": [
    "pip install pyodbc"
   ]
  },
  {
   "cell_type": "code",
   "execution_count": null,
   "id": "36c374b9",
   "metadata": {},
   "outputs": [],
   "source": [
    "def connect_to_db():\n",
    "    connection_string = \"\"\"\n",
    "    Driver={ODBC Driver 17 for SQL Server};\n",
    "    Server=YOUR_SERVER_NAME;\n",
    "    Database=aboriDatabase;\n",
    "    User Id=YOUR_USER_ID;\n",
    "    Password=YOUR_PASSWORD;\n",
    "    \"\"\"\n",
    "    return pyodbc.connect(connection_string)\n",
    "\n",
    "def insert_data_to_db(data, connection):\n",
    "    cursor = connection.cursor()\n",
    "\n",
    "    # Inserting Journal data\n",
    "    cursor.execute(\"\"\"\n",
    "        INSERT INTO dbo.journal (title, abbrev_title, issn, publisher_name)\n",
    "        VALUES (?, ?, ?, ?)\n",
    "    \"\"\", data[\"journal_title\"], data[\"abbrev_journal_title\"], data[\"issn\"], data[\"publisher_name\"])\n",
    "    journal_id = cursor.execute(\"SELECT SCOPE_IDENTITY()\").fetchone()[0]\n",
    "\n",
    "    # Inserting Article data\n",
    "    cursor.execute(\"\"\"\n",
    "        INSERT INTO dbo.article (journal_id, title, keywords)\n",
    "        VALUES (?, ?, ?)\n",
    "    \"\"\", journal_id, data[\"article_title\"], ', '.join(data[\"keywords\"]))\n",
    "    article_id = cursor.execute(\"SELECT SCOPE_IDENTITY()\").fetchone()[0]\n",
    "\n",
    "    # Inserting Authors and linking them to Articles\n",
    "    for author in data[\"authors\"]:\n",
    "        # Here I'm assuming you'd have a function to fetch researcher_id by the author name\n",
    "        # If not, you'd have to insert the researcher into the researcher table first\n",
    "        researcher_id = get_or_create_researcher_id(author, cursor)\n",
    "        cursor.execute(\"\"\"\n",
    "            INSERT INTO dbo.article_authors (article_id, researcher_id)\n",
    "            VALUES (?, ?)\n",
    "        \"\"\", article_id, researcher_id)\n",
    "\n",
    "    # Inserting Full Text data\n",
    "    cursor.execute(\"\"\"\n",
    "        INSERT INTO dbo.article_fulltext (article_id, content)\n",
    "        VALUES (?, ?)\n",
    "    \"\"\", article_id, data[\"full_text\"])\n",
    "\n",
    "    # Committing changes to the database\n",
    "    connection.commit()\n",
    "\n",
    "def get_or_create_researcher_id(name, cursor):\n",
    "    # Split name into first and last\n",
    "    first_name, last_name = name.split(' ', 1)\n",
    "    cursor.execute(\"\"\"\n",
    "        SELECT researcher_id FROM dbo.researcher WHERE name = ?\n",
    "    \"\"\", name)\n",
    "    result = cursor.fetchone()\n",
    "    if result:\n",
    "        return result[0]\n",
    "    else:\n",
    "        cursor.execute(\"\"\"\n",
    "            INSERT INTO dbo.researcher (name)\n",
    "            VALUES (?)\n",
    "        \"\"\", name)\n",
    "        return cursor.execute(\"SELECT SCOPE_IDENTITY()\").fetchone()[0]\n",
    "\n",
    "if __name__ == \"__main__\":\n",
    "    xml_path = 'path_to_your_xml.xml'\n",
    "    data = extract_data_from_xml(xml_path)\n",
    "    connection = connect_to_db()\n",
    "    insert_data_to_db(data, connection)\n",
    "    connection.close()\n"
   ]
  }
 ],
 "metadata": {
  "kernelspec": {
   "display_name": "Python 3 (ipykernel)",
   "language": "python",
   "name": "python3"
  },
  "language_info": {
   "codemirror_mode": {
    "name": "ipython",
    "version": 3
   },
   "file_extension": ".py",
   "mimetype": "text/x-python",
   "name": "python",
   "nbconvert_exporter": "python",
   "pygments_lexer": "ipython3",
   "version": "3.9.12"
  }
 },
 "nbformat": 4,
 "nbformat_minor": 5
}
